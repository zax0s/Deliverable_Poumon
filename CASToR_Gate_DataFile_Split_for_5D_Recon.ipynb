{
 "cells": [
  {
   "cell_type": "code",
   "execution_count": 1,
   "metadata": {},
   "outputs": [],
   "source": [
    "import numpy as np\n",
    "import struct\n",
    "import pandas as pd\n",
    "import matplotlib.pyplot as plt\n",
    "import os\n",
    "%matplotlib inline\n",
    "from tqdm import tqdm"
   ]
  },
  {
   "cell_type": "markdown",
   "metadata": {},
   "source": [
    "## Read dynamic list-mode CASToR datafile"
   ]
  },
  {
   "cell_type": "code",
   "execution_count": 16,
   "metadata": {},
   "outputs": [],
   "source": [
    "datafile='data/poumon_pat6_list-mode_0_tof_ref0_compr_1_100.cdf'"
   ]
  },
  {
   "cell_type": "code",
   "execution_count": 17,
   "metadata": {},
   "outputs": [
    {
     "data": {
      "text/plain": [
       "24"
      ]
     },
     "execution_count": 17,
     "metadata": {},
     "output_type": "execute_result"
    }
   ],
   "source": [
    "# Structure of datafile for 32 bit list-mode ( including TOF )\n",
    "struct.calcsize('IfffffII')\n",
    "\n",
    "\n",
    "# Structure of compressed datafile for 24 bit list-mode ( including TOF )\n",
    "# uint32_t : time tag\n",
    "# float: Normalization + Attenuation\n",
    "# float: Scatter + randoms\n",
    "# float: TOF arrival time diff\n",
    "# uint32_t: CrystalID1\n",
    "# uint32_t: CrystalID2\n",
    "struct.calcsize('IfffII')"
   ]
  },
  {
   "cell_type": "code",
   "execution_count": 18,
   "metadata": {},
   "outputs": [],
   "source": [
    "# Get last time tag\n",
    "with open(datafile, mode='rb') as file: # b is important -> binary\n",
    "    file.seek(os.path.getsize(datafile)-24)\n",
    "    # Read last phrase\n",
    "    datafilePack = file.read(24)\n",
    "    # read its time tag , as the last time tag\n",
    "    lastTimeTag = int(struct.unpack(\"I\",datafilePack[:4])[0])"
   ]
  },
  {
   "cell_type": "code",
   "execution_count": 19,
   "metadata": {},
   "outputs": [
    {
     "data": {
      "text/plain": [
       "3599999"
      ]
     },
     "execution_count": 19,
     "metadata": {},
     "output_type": "execute_result"
    }
   ],
   "source": [
    "lastTimeTag"
   ]
  },
  {
   "cell_type": "markdown",
   "metadata": {},
   "source": [
    "## Define Framing for the study ( on study refference time == injection time )"
   ]
  },
  {
   "cell_type": "code",
   "execution_count": 20,
   "metadata": {},
   "outputs": [],
   "source": [
    "frm=\"0,10,20,30,40,50,60,70,80,90,100, \\\n",
    "110,120,140,160,180,200,220,240,260,280,300,320,340,   \\\n",
    "360,420,480,540,600,720,840,960,1080,1200,1500,1800,2100,2400,2700,3000,3300:300\""
   ]
  },
  {
   "cell_type": "code",
   "execution_count": 21,
   "metadata": {},
   "outputs": [],
   "source": [
    "frames_phrases=frm.split(\",\")\n",
    "FrameStart=np.zeros([len(frames_phrases)],dtype='int')\n",
    "FrameDuration=np.zeros([len(frames_phrases)],dtype='int')\n",
    "\n",
    "fr=0\n",
    "for phrase in frames_phrases:\n",
    "    #print(phrase)\n",
    "    if (phrase.find(\":\") != -1) :\n",
    "        FrameStart[fr]=float(phrase.split(\":\")[0])\n",
    "        FrameDuration[fr]=float(phrase.split(\":\")[1])\n",
    "    else:\n",
    "        FrameStart[fr]=float(phrase)\n",
    "    fr+=1\n",
    "\n",
    "# Loop over farmes duration and replace zeros with time until next frame\n",
    "for idx,val in enumerate(FrameDuration):\n",
    "    if val==0:\n",
    "        FrameDuration[idx]=FrameStart[idx+1]-FrameStart[idx]"
   ]
  },
  {
   "cell_type": "markdown",
   "metadata": {},
   "source": [
    "## Read respiratory triggers time tags"
   ]
  },
  {
   "cell_type": "code",
   "execution_count": 22,
   "metadata": {},
   "outputs": [],
   "source": [
    "resp_triggers=pd.read_csv('data/LIST0000.resp')\n",
    "resp_triggers.columns = ['trigger_time_tag']"
   ]
  },
  {
   "cell_type": "code",
   "execution_count": 23,
   "metadata": {},
   "outputs": [],
   "source": [
    "# The data were unlisted from 60 seconds onwards ( and refference is 60sec)\n",
    "# We need to apply the same offset to the respiratory gates\n",
    "resp_triggers = (resp_triggers-60000)\n",
    "# Then remove triggers taking place before injection time (time=0)\n",
    "resp_triggers = resp_triggers[resp_triggers['trigger_time_tag'] > 0]"
   ]
  },
  {
   "cell_type": "code",
   "execution_count": 24,
   "metadata": {},
   "outputs": [
    {
     "data": {
      "text/plain": [
       "trigger_time_tag    3419.779258\n",
       "dtype: float64"
      ]
     },
     "execution_count": 24,
     "metadata": {},
     "output_type": "execute_result"
    }
   ],
   "source": [
    "resp_triggers.diff().mean()"
   ]
  },
  {
   "cell_type": "code",
   "execution_count": 25,
   "metadata": {},
   "outputs": [],
   "source": [
    "resp_triggers = np.array(resp_triggers.trigger_time_tag.tolist())\n",
    "resp_triggers_diff = np.diff(resp_triggers)"
   ]
  },
  {
   "cell_type": "code",
   "execution_count": 26,
   "metadata": {},
   "outputs": [
    {
     "name": "stdout",
     "output_type": "stream",
     "text": [
      "Number of respiratory tags: 1052\n",
      "Mean respiratory rate: 3419.779258 ms\n",
      "Number of cycles to include: 952 \n",
      "Rejection fraction: 9.5057%\n"
     ]
    }
   ],
   "source": [
    "# Statistics of resp tags\n",
    "print(\"Number of respiratory tags: %d\"%resp_triggers.shape[0])\n",
    "print(\"Mean respiratory rate: %f ms\"%np.diff(resp_triggers).mean())\n",
    "accepted_count=((np.diff(resp_triggers)<4000*1.66) & (np.diff(resp_triggers)>4000*0.33)).sum()\n",
    "print(\"Number of cycles to include: %d \"%accepted_count)\n",
    "print(\"Rejection fraction: {0:.4f}%\".format((1-accepted_count/resp_triggers.shape[0])*100))"
   ]
  },
  {
   "cell_type": "code",
   "execution_count": 27,
   "metadata": {},
   "outputs": [
    {
     "name": "stdout",
     "output_type": "stream",
     "text": [
      "True\n"
     ]
    }
   ],
   "source": [
    "# Check if last respiratory trigger takes place before end of file\n",
    "print (resp_triggers[-1]<lastTimeTag)"
   ]
  },
  {
   "cell_type": "markdown",
   "metadata": {},
   "source": [
    "## Create time-tag info array for gates phase, gate index and rejected triger phases"
   ]
  },
  {
   "cell_type": "markdown",
   "metadata": {},
   "source": [
    "### In this step we create an information matrix for each time-tag within the list mode file.\n",
    "In each time tag we have the following information:\n",
    "#0: time-tag\n",
    "#1: respiratory cycle index\n",
    "#2: Frame index\n",
    "#3: Accepted or rejected  based on respiratory cycle duration ( within 30% of 3000ms ) \n",
    "#4: Use for Q.Static ?  (Yes=1 or No=0)\n",
    "#5: Q.Freeze (Gate) index number"
   ]
  },
  {
   "cell_type": "code",
   "execution_count": 28,
   "metadata": {},
   "outputs": [],
   "source": [
    "InfoMatrix = np.zeros([lastTimeTag+1,6],dtype=int)"
   ]
  },
  {
   "cell_type": "code",
   "execution_count": 29,
   "metadata": {},
   "outputs": [],
   "source": [
    "InfoMatrix[:,0] = np.arange(lastTimeTag+1)"
   ]
  },
  {
   "cell_type": "code",
   "execution_count": 30,
   "metadata": {},
   "outputs": [
    {
     "name": "stderr",
     "output_type": "stream",
     "text": [
      "100%|█████████████████████████████████████████████████████████████████████████████████████████████████████████████████████████████| 3594188/3594188 [04:18<00:00, 13900.79it/s]\n"
     ]
    }
   ],
   "source": [
    "# Set respiratory cycle index and check respiratory cycle duration\n",
    "current_resp_cycle=0\n",
    "current_frame=0\n",
    "# Reject all tags before the first respiratory trigger and after the last \n",
    "for tag in range(resp_triggers[0]):\n",
    "    InfoMatrix[tag,3]=0\n",
    "\n",
    "for tag in range(resp_triggers[-1],lastTimeTag):\n",
    "    InfoMatrix[tag,3]=0\n",
    "\n",
    "for tag in tqdm(range(resp_triggers[0],resp_triggers[-1])):\n",
    "    # Check if we need to update frame index\n",
    "    if tag>=((FrameStart[current_frame]+FrameDuration[current_frame])*1000):\n",
    "        current_frame+=1;\n",
    "    InfoMatrix[tag,2]=current_frame\n",
    "    \n",
    "    # it tag is greater or equal to the following resp trigger, move one cycle up\n",
    "    if tag>=resp_triggers[current_resp_cycle+1]:\n",
    "        current_resp_cycle+=1;\n",
    "    # Set the current_resp_cycle index\n",
    "    InfoMatrix[tag,1]=current_resp_cycle\n",
    "    \n",
    "    # Check duration of cycle to reject or keep\n",
    "    if (4000*0.33<resp_triggers_diff[current_resp_cycle]<4000*1.66):\n",
    "        InfoMatrix[tag,3]=1\n",
    "    \n",
    "    # Trigger is already placed 30% forward from the peak ( by GE )\n",
    "    # we keep the first 50% of the data in the resp cycle for Q.Static data\n",
    "    if (tag<resp_triggers[current_resp_cycle]+resp_triggers_diff[current_resp_cycle]/2):\n",
    "        InfoMatrix[tag,4]=1\n",
    "      \n",
    "    # Trigger is placed 30% forward from the peak ( by GE )\n",
    "    # we splitt the data in the resp cycle in 5 parts/gates for Q.Static data    \n",
    "    for gate in range(1,6):\n",
    "        gate_start=resp_triggers[current_resp_cycle]+(resp_triggers_diff[current_resp_cycle]/5.)*(gate-1)\n",
    "        gate_end=resp_triggers[current_resp_cycle]+(resp_triggers_diff[current_resp_cycle]/5.)*(gate)\n",
    "        if (gate_start<=tag<gate_end):\n",
    "            InfoMatrix[tag,5]=gate\n"
   ]
  },
  {
   "cell_type": "code",
   "execution_count": 31,
   "metadata": {},
   "outputs": [],
   "source": [
    "np.savetxt('data/InfoMatrix.txt',InfoMatrix.astype(int),fmt='%i', delimiter=\",\")"
   ]
  },
  {
   "cell_type": "code",
   "execution_count": 44,
   "metadata": {},
   "outputs": [],
   "source": [
    "InfoMatrix = np.loadtxt('data/InfoMatrix.txt', delimiter=\",\")"
   ]
  },
  {
   "cell_type": "code",
   "execution_count": null,
   "metadata": {},
   "outputs": [],
   "source": [
    "#InfoMatrix[1495:1555]\n",
    "InfoMatrix[:2614]\n",
    "InfoMatrix[360000:360000+60000,3].sum()"
   ]
  },
  {
   "cell_type": "markdown",
   "metadata": {},
   "source": [
    "## Process the list-mode file and create Q.Static Q.Freeze list files (with frames)"
   ]
  },
  {
   "cell_type": "code",
   "execution_count": null,
   "metadata": {},
   "outputs": [],
   "source": [
    "# Q.Static\n",
    "pbar = tqdm(total=int(os.path.getsize(datafile)/24))   \n",
    "    \n",
    "with open(datafile, mode='rb') as file:\n",
    "    # Create Q.Static file\n",
    "    QStaticFile = open(os.path.basename(datafile).split('.')[0]+'_QStatic.cdf', \"wb\")\n",
    "    \n",
    "    # Read first datafilePack\n",
    "    datafilePack = file.read(24)\n",
    "    count=1\n",
    "    QStaticCount=0\n",
    "    # Loop over all data untill end of file\n",
    "    while datafilePack:\n",
    "        # get time tag\n",
    "        timetag = int(struct.unpack(\"I\",datafilePack[:4])[0])\n",
    "        # Check if we will use this time tag\n",
    "        if InfoMatrix[timetag,2]==1:\n",
    "            count+=1\n",
    "            # Check if we will use this time tag for Q.Static\n",
    "            if InfoMatrix[timetag,3]==1:\n",
    "                QStaticCount+=1\n",
    "                QStaticFile.write(datafilePack)\n",
    "\n",
    "        # Read next datafilePack\n",
    "        datafilePack = file.read(24)\n",
    "        #print progress\n",
    "        pbar.update(int(count))\n",
    "\n",
    "    # close output files\n",
    "    QStaticFile.close()\n",
    "    # close progress bar \n",
    "    pbar.close()"
   ]
  },
  {
   "cell_type": "code",
   "execution_count": null,
   "metadata": {},
   "outputs": [],
   "source": [
    "print(\"Number of events in Q.Static CASToR Datafile: %d\"%QStaticCount)\n",
    "print(\"Number of total events (accepted) from original CASToR Datafile: %d\"%count)"
   ]
  },
  {
   "cell_type": "code",
   "execution_count": null,
   "metadata": {},
   "outputs": [],
   "source": [
    "InfoMatrix[2614]"
   ]
  },
  {
   "cell_type": "code",
   "execution_count": null,
   "metadata": {},
   "outputs": [],
   "source": [
    "with open(datafile, mode='rb') as file:\n",
    "    datafilePack = file.read(24)\n",
    "    while datafilePack:\n",
    "        timetag = int(struct.unpack(\"I\",datafilePack[:4])[0])\n",
    "        if (timetag==2615):\n",
    "            print(\"found\")\n",
    "            break\n",
    "        datafilePack = file.read(24)"
   ]
  },
  {
   "cell_type": "code",
   "execution_count": null,
   "metadata": {},
   "outputs": [],
   "source": [
    "datafilePack"
   ]
  },
  {
   "cell_type": "code",
   "execution_count": null,
   "metadata": {},
   "outputs": [],
   "source": [
    "struct.unpack('IfffII', datafilePack)"
   ]
  },
  {
   "cell_type": "code",
   "execution_count": null,
   "metadata": {},
   "outputs": [],
   "source": []
  },
  {
   "cell_type": "code",
   "execution_count": null,
   "metadata": {},
   "outputs": [],
   "source": []
  },
  {
   "cell_type": "code",
   "execution_count": null,
   "metadata": {
    "scrolled": false
   },
   "outputs": [],
   "source": [
    "# Q.Freeze\n",
    "pbar = tqdm(total=int(os.path.getsize(datafile)/24))   \n",
    "    \n",
    "with open(datafile, mode='rb') as file:\n",
    "    # Create Q.Static file\n",
    "    \n",
    "    QFreezeFile_gate1 = open(os.path.basename(datafile).split('.')[0]+'_QFreeze_Gate1.cdf', \"wb\")\n",
    "    QFreezeFile_gate2 = open(os.path.basename(datafile).split('.')[0]+'_QFreeze_Gate2.cdf', \"wb\")\n",
    "    QFreezeFile_gate3 = open(os.path.basename(datafile).split('.')[0]+'_QFreeze_Gate3.cdf', \"wb\")\n",
    "    QFreezeFile_gate4 = open(os.path.basename(datafile).split('.')[0]+'_QFreeze_Gate4.cdf', \"wb\")\n",
    "    QFreezeFile_gate5 = open(os.path.basename(datafile).split('.')[0]+'_QFreeze_Gate5.cdf', \"wb\")\n",
    "    QFreezeFiles=[QFreezeFile_gate1,QFreezeFile_gate2,QFreezeFile_gate3,QFreezeFile_gate4,QFreezeFile_gate5]\n",
    "    \n",
    "    # Read first datafilePack\n",
    "    datafilePack = file.read(24)\n",
    "    count=1\n",
    "    GateCount=np.zeros([5])\n",
    "    # Loop over all data untill end of file\n",
    "    while datafilePack:\n",
    "        # get time tag\n",
    "        timetag = int(struct.unpack(\"I\",datafilePack[:4])[0])\n",
    "        # Check if we will use this time tag\n",
    "        if InfoMatrix[timetag,2]==1:\n",
    "            count+=1\n",
    "            # Check to which gate this event bellongs to\n",
    "            gate =  int(InfoMatrix[timetag,4])\n",
    "            QFreezeFiles[gate-1].write(datafilePack)\n",
    "            GateCount[gate-1]+=1\n",
    "\n",
    "\n",
    "        # Read next datafilePack\n",
    "        datafilePack = file.read(24)\n",
    "        #print progress\n",
    "        pbar.update(int(count))\n",
    "\n",
    "    # close output files\n",
    "    QStaticFile.close()\n",
    "    # close progress bar \n",
    "    pbar.close()"
   ]
  },
  {
   "cell_type": "code",
   "execution_count": null,
   "metadata": {},
   "outputs": [],
   "source": [
    "QFreezeFiles[1-1]"
   ]
  },
  {
   "cell_type": "code",
   "execution_count": null,
   "metadata": {},
   "outputs": [],
   "source": []
  },
  {
   "cell_type": "markdown",
   "metadata": {},
   "source": [
    "## Calculate quantification factors"
   ]
  },
  {
   "cell_type": "code",
   "execution_count": null,
   "metadata": {},
   "outputs": [],
   "source": []
  },
  {
   "cell_type": "code",
   "execution_count": 30,
   "metadata": {},
   "outputs": [],
   "source": [
    "head_curve=pd.read_csv('data/prompts_headcurve.hc',sep=',',header=None)\n",
    "head_curve.columns=['time','prompts']\n",
    "prompt_array = np.array(head_curve.prompts)"
   ]
  },
  {
   "cell_type": "code",
   "execution_count": 33,
   "metadata": {},
   "outputs": [],
   "source": [
    "prompt_array = np.array(head_curve.prompts)"
   ]
  },
  {
   "cell_type": "code",
   "execution_count": 40,
   "metadata": {},
   "outputs": [
    {
     "data": {
      "text/plain": [
       "(3599999,)"
      ]
     },
     "execution_count": 40,
     "metadata": {},
     "output_type": "execute_result"
    }
   ],
   "source": [
    "prompt_array.shape"
   ]
  },
  {
   "cell_type": "code",
   "execution_count": 47,
   "metadata": {},
   "outputs": [
    {
     "ename": "IndexError",
     "evalue": "index 3599999 is out of bounds for axis 0 with size 3599999",
     "output_type": "error",
     "traceback": [
      "\u001b[0;31m---------------------------------------------------------------------------\u001b[0m",
      "\u001b[0;31mIndexError\u001b[0m                                Traceback (most recent call last)",
      "\u001b[0;32m<ipython-input-47-88637fb7a17a>\u001b[0m in \u001b[0;36m<module>\u001b[0;34m\u001b[0m\n\u001b[0;32m----> 1\u001b[0;31m \u001b[0mprompt_array\u001b[0m\u001b[0;34m[\u001b[0m\u001b[0mtag\u001b[0m\u001b[0;34m]\u001b[0m\u001b[0;34m\u001b[0m\u001b[0m\n\u001b[0m",
      "\u001b[0;31mIndexError\u001b[0m: index 3599999 is out of bounds for axis 0 with size 3599999"
     ]
    }
   ],
   "source": [
    "prompt_array[tag]"
   ]
  },
  {
   "cell_type": "code",
   "execution_count": 53,
   "metadata": {},
   "outputs": [],
   "source": [
    "QStatic_counts_per_frame=np.zeros([np.size(FrameStart)],dtype='int')\n",
    "QStatic_mseconds_per_frame=np.zeros([np.size(FrameStart)],dtype='int')\n",
    "\n",
    "for frm in range(np.size(FrameStart)):\n",
    "    for tag in range(FrameStart[frm]*1000,FrameStart[frm]*1000+FrameDuration[frm]*1000):\n",
    "        if ((InfoMatrix[tag,3]==1)and(InfoMatrix[tag,2]==1)):\n",
    "            QStatic_counts_per_frame[frm]+=prompt_array[tag]\n",
    "            QStatic_mseconds_per_frame[frm]+=1"
   ]
  },
  {
   "cell_type": "code",
   "execution_count": 54,
   "metadata": {},
   "outputs": [
    {
     "name": "stdout",
     "output_type": "stream",
     "text": [
      "1143217, 0\n",
      "14401275, 0\n",
      "12604682, 0\n",
      "9752994, 0\n",
      "9674381, 0\n",
      "10211739, 0\n",
      "8830682, 0\n",
      "9813369, 0\n",
      "5479591, 0\n",
      "8652089, 0\n",
      "9549498, 0\n",
      "9884698, 0\n",
      "17564165, 0\n",
      "16746187, 0\n",
      "17749543, 0\n",
      "11930123, 0\n",
      "12077855, 0\n",
      "16633524, 0\n",
      "15527830, 0\n",
      "17696646, 0\n",
      "12271621, 0\n",
      "15865530, 0\n",
      "8792135, 0\n",
      "12064577, 0\n",
      "45112196, 0\n",
      "47135635, 0\n",
      "46051818, 0\n",
      "39658385, 0\n",
      "85219663, 0\n",
      "85218879, 0\n",
      "48271429, 0\n",
      "62289055, 0\n",
      "35531225, 0\n",
      "74543813, 0\n",
      "122054196, 0\n",
      "126281448, 0\n",
      "129060807, 0\n",
      "119510445, 0\n",
      "116422951, 0\n",
      "112176136, 0\n",
      "105580884, 0\n"
     ]
    }
   ],
   "source": [
    "for frm in range(np.size(FrameStart)):\n",
    "    print(str(QStatic_counts_per_frame[frm])+\", 0\")"
   ]
  },
  {
   "cell_type": "code",
   "execution_count": 56,
   "metadata": {
    "scrolled": false
   },
   "outputs": [
    {
     "name": "stdout",
     "output_type": "stream",
     "text": [
      "3.24, 0\n",
      "3.53, 0\n",
      "4.85, 0\n",
      "5.1, 0\n",
      "4.87, 0\n",
      "5.4, 0\n",
      "4.707, 0\n",
      "5.23, 0\n",
      "2.92, 0\n",
      "4.631, 0\n",
      "5.142, 0\n",
      "5.421, 0\n",
      "9.928, 0\n",
      "9.602, 0\n",
      "10.32, 0\n",
      "7.0, 0\n",
      "7.17, 0\n",
      "9.98, 0\n",
      "9.33, 0\n",
      "10.73, 0\n",
      "7.52, 0\n",
      "9.781, 0\n",
      "5.429, 0\n",
      "7.48, 0\n",
      "27.942, 0\n",
      "29.998, 0\n",
      "29.974, 0\n",
      "26.236, 0\n",
      "57.75, 0\n",
      "59.8, 0\n",
      "34.95, 0\n",
      "47.13, 0\n",
      "27.42, 0\n",
      "61.87, 0\n",
      "108.73, 0\n",
      "117.726, 0\n",
      "130.984, 0\n",
      "130.95, 0\n",
      "134.331, 0\n",
      "136.92, 0\n",
      "136.45, 0\n"
     ]
    }
   ],
   "source": [
    "for frm in range(np.size(FrameStart)):\n",
    "    print(str(QStatic_mseconds_per_frame[frm]/1000)+\", 0\")"
   ]
  }
 ],
 "metadata": {
  "kernelspec": {
   "display_name": "Python 3",
   "language": "python",
   "name": "python3"
  },
  "language_info": {
   "codemirror_mode": {
    "name": "ipython",
    "version": 3
   },
   "file_extension": ".py",
   "mimetype": "text/x-python",
   "name": "python",
   "nbconvert_exporter": "python",
   "pygments_lexer": "ipython3",
   "version": "3.6.10"
  }
 },
 "nbformat": 4,
 "nbformat_minor": 4
}
