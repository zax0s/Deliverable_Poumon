{
 "cells": [
  {
   "cell_type": "code",
   "execution_count": 1,
   "metadata": {},
   "outputs": [],
   "source": [
    "import numpy as np\n",
    "import struct\n",
    "import pandas as pd\n",
    "import matplotlib.pyplot as plt\n",
    "import os\n",
    "%matplotlib inline\n",
    "from tqdm import tqdm"
   ]
  },
  {
   "cell_type": "markdown",
   "metadata": {},
   "source": [
    "## Read dynamic list-mode CASToR datafile"
   ]
  },
  {
   "cell_type": "code",
   "execution_count": 2,
   "metadata": {},
   "outputs": [],
   "source": [
    "datafile='data/poumon_pat6_list-mode_0_tof_ref0_1_sur100.cdf'"
   ]
  },
  {
   "cell_type": "code",
   "execution_count": 3,
   "metadata": {},
   "outputs": [
    {
     "data": {
      "text/plain": [
       "32"
      ]
     },
     "execution_count": 3,
     "metadata": {},
     "output_type": "execute_result"
    }
   ],
   "source": [
    "# Structure of datafile for 32 bit list-mode ( including TOF )\n",
    "struct.calcsize('IfffffII')\n",
    "\n",
    "\n",
    "# Structure of compressed datafile for 24 bit list-mode ( including TOF )\n",
    "# uint32_t : time tag\n",
    "# float: Normalization + Attenuation\n",
    "# float: Scatter + randoms\n",
    "# float: TOF arrival time diff\n",
    "# uint32_t: CrystalID1\n",
    "# uint32_t: CrystalID2\n",
    "#struct.calcsize('IfffII')"
   ]
  },
  {
   "cell_type": "code",
   "execution_count": 4,
   "metadata": {},
   "outputs": [],
   "source": [
    "# Get last time tag\n",
    "with open(datafile, mode='rb') as file: # b is important -> binary\n",
    "    file.seek(os.path.getsize(datafile)-32)\n",
    "    # Read last phrase\n",
    "    datafilePack = file.read(32)\n",
    "    # read its time tag , as the last time tag\n",
    "    lastTimeTag = int(struct.unpack(\"I\",datafilePack[:4])[0])"
   ]
  },
  {
   "cell_type": "code",
   "execution_count": 5,
   "metadata": {},
   "outputs": [
    {
     "data": {
      "text/plain": [
       "3599999"
      ]
     },
     "execution_count": 5,
     "metadata": {},
     "output_type": "execute_result"
    }
   ],
   "source": [
    "lastTimeTag"
   ]
  },
  {
   "cell_type": "markdown",
   "metadata": {},
   "source": [
    "## Define Framing for the study ( on study refference time == injection time )"
   ]
  },
  {
   "cell_type": "code",
   "execution_count": 6,
   "metadata": {},
   "outputs": [],
   "source": [
    "frm=\"0,10,20,30,40,50,60,70,80,90,100, \\\n",
    "110,120,140,160,180,200,220,240,260,280,300,320,340,   \\\n",
    "360,420,480,540,600,720,840,960,1080,1200,1500,1800,2100,2400,2700,3000,3300:300\""
   ]
  },
  {
   "cell_type": "code",
   "execution_count": 7,
   "metadata": {},
   "outputs": [],
   "source": [
    "frames_phrases=frm.split(\",\")\n",
    "FrameStart=np.zeros([len(frames_phrases)],dtype='int')\n",
    "FrameDuration=np.zeros([len(frames_phrases)],dtype='int')\n",
    "\n",
    "fr=0\n",
    "for phrase in frames_phrases:\n",
    "    #print(phrase)\n",
    "    if (phrase.find(\":\") != -1) :\n",
    "        FrameStart[fr]=float(phrase.split(\":\")[0])\n",
    "        FrameDuration[fr]=float(phrase.split(\":\")[1])\n",
    "    else:\n",
    "        FrameStart[fr]=float(phrase)\n",
    "    fr+=1\n",
    "\n",
    "# Loop over farmes duration and replace zeros with time until next frame\n",
    "for idx,val in enumerate(FrameDuration):\n",
    "    if val==0:\n",
    "        FrameDuration[idx]=FrameStart[idx+1]-FrameStart[idx]"
   ]
  },
  {
   "cell_type": "code",
   "execution_count": 8,
   "metadata": {},
   "outputs": [
    {
     "data": {
      "text/plain": [
       "(41,)"
      ]
     },
     "execution_count": 8,
     "metadata": {},
     "output_type": "execute_result"
    }
   ],
   "source": [
    "FrameStart.shape"
   ]
  },
  {
   "cell_type": "markdown",
   "metadata": {},
   "source": [
    "## Read respiratory triggers time tags"
   ]
  },
  {
   "cell_type": "code",
   "execution_count": 9,
   "metadata": {},
   "outputs": [],
   "source": [
    "resp_triggers=pd.read_csv('data/LIST0000.resp')\n",
    "resp_triggers.columns = ['trigger_time_tag']"
   ]
  },
  {
   "cell_type": "code",
   "execution_count": 10,
   "metadata": {},
   "outputs": [],
   "source": [
    "# The data were unlisted from 60 seconds onwards ( and refference is 60sec)\n",
    "# We need to apply the same offset to the respiratory gates\n",
    "resp_triggers = (resp_triggers-60000)\n",
    "# Then remove triggers taking place before injection time (time=0)\n",
    "resp_triggers = resp_triggers[resp_triggers['trigger_time_tag'] > 0]"
   ]
  },
  {
   "cell_type": "code",
   "execution_count": 11,
   "metadata": {},
   "outputs": [
    {
     "data": {
      "text/plain": [
       "trigger_time_tag    3419.779258\n",
       "dtype: float64"
      ]
     },
     "execution_count": 11,
     "metadata": {},
     "output_type": "execute_result"
    }
   ],
   "source": [
    "resp_triggers.diff().mean()"
   ]
  },
  {
   "cell_type": "code",
   "execution_count": 12,
   "metadata": {},
   "outputs": [],
   "source": [
    "resp_triggers = np.array(resp_triggers.trigger_time_tag.tolist())\n",
    "resp_triggers_diff = np.diff(resp_triggers)"
   ]
  },
  {
   "cell_type": "code",
   "execution_count": 13,
   "metadata": {},
   "outputs": [
    {
     "name": "stdout",
     "output_type": "stream",
     "text": [
      "Number of respiratory tags: 1052\n",
      "Mean respiratory rate: 3419.779258 ms\n",
      "Number of cycles to include: 952 \n",
      "Rejection fraction: 9.5057%\n"
     ]
    }
   ],
   "source": [
    "# Statistics of resp tags\n",
    "print(\"Number of respiratory tags: %d\"%resp_triggers.shape[0])\n",
    "print(\"Mean respiratory rate: %f ms\"%np.diff(resp_triggers).mean())\n",
    "accepted_count=((np.diff(resp_triggers)<4000*1.66) & (np.diff(resp_triggers)>4000*0.33)).sum()\n",
    "print(\"Number of cycles to include: %d \"%accepted_count)\n",
    "print(\"Rejection fraction: {0:.4f}%\".format((1-accepted_count/resp_triggers.shape[0])*100))"
   ]
  },
  {
   "cell_type": "code",
   "execution_count": 14,
   "metadata": {},
   "outputs": [
    {
     "name": "stdout",
     "output_type": "stream",
     "text": [
      "True\n"
     ]
    }
   ],
   "source": [
    "# Check if last respiratory trigger takes place before end of file\n",
    "print (resp_triggers[-1]<lastTimeTag)"
   ]
  },
  {
   "cell_type": "markdown",
   "metadata": {},
   "source": [
    "## Create time-tag info array for gates phase, gate index and rejected triger phases"
   ]
  },
  {
   "cell_type": "markdown",
   "metadata": {},
   "source": [
    "### In this step we create an information matrix for each time-tag within the list mode file.\n",
    "In each time tag we have the following information:\n",
    "#0: time-tag\n",
    "#1: respiratory cycle index\n",
    "#2: Frame index\n",
    "#3: Accepted or rejected  based on respiratory cycle duration ( within 30% of 4000ms ) \n",
    "#4: Use for Q.Static ?  (Yes=1 or No=0)\n",
    "#5: Q.Freeze (Gate) index number"
   ]
  },
  {
   "cell_type": "code",
   "execution_count": 15,
   "metadata": {},
   "outputs": [],
   "source": [
    "InfoMatrix = np.zeros([lastTimeTag+1,6],dtype=int)"
   ]
  },
  {
   "cell_type": "code",
   "execution_count": 16,
   "metadata": {},
   "outputs": [],
   "source": [
    "InfoMatrix[:,0] = np.arange(lastTimeTag+1)"
   ]
  },
  {
   "cell_type": "code",
   "execution_count": 68,
   "metadata": {},
   "outputs": [
    {
     "name": "stderr",
     "output_type": "stream",
     "text": [
      "100%|███████████████████████████████████████████████████████████████████████████████████████████| 3594188/3594188 [03:46<00:00, 15889.50it/s]\n"
     ]
    }
   ],
   "source": [
    "# Set respiratory cycle index and check respiratory cycle duration\n",
    "current_resp_cycle=0\n",
    "current_frame=0\n",
    "# Reject all tags before the first respiratory trigger and after the last \n",
    "for tag in range(resp_triggers[0]):\n",
    "    InfoMatrix[tag,3]=0\n",
    "\n",
    "for tag in range(resp_triggers[-1],lastTimeTag):\n",
    "    InfoMatrix[tag,3]=0\n",
    "\n",
    "for tag in tqdm(range(resp_triggers[0],resp_triggers[-1])):\n",
    "    # Check if we need to update frame index\n",
    "    if tag>=((FrameStart[current_frame]+FrameDuration[current_frame])*1000):\n",
    "        current_frame+=1;\n",
    "    InfoMatrix[tag,2]=current_frame\n",
    "    \n",
    "    # it tag is greater or equal to the following resp trigger, move one cycle up\n",
    "    if tag>=resp_triggers[current_resp_cycle+1]:\n",
    "        current_resp_cycle+=1;\n",
    "    # Set the current_resp_cycle index\n",
    "    InfoMatrix[tag,1]=current_resp_cycle\n",
    "    \n",
    "    # Check duration of cycle to reject or keep\n",
    "    if (4000*0.33<resp_triggers_diff[current_resp_cycle]<4000*1.66):\n",
    "        InfoMatrix[tag,3]=1\n",
    "    \n",
    "    # Trigger is already placed 30% forward from the peak ( by GE )\n",
    "    # we keep the first 50% of the data in the resp cycle for Q.Static data\n",
    "    if (tag<resp_triggers[current_resp_cycle]+resp_triggers_diff[current_resp_cycle]/2):\n",
    "        InfoMatrix[tag,4]=1\n",
    "      \n",
    "    # Trigger is placed 30% forward from the peak ( by GE )\n",
    "    # we splitt the data in the resp cycle in 5 parts/gates for Q.Static data    \n",
    "    for gate in range(1,6):\n",
    "        gate_start=resp_triggers[current_resp_cycle]+(resp_triggers_diff[current_resp_cycle]/5.)*(gate-1)\n",
    "        gate_end=resp_triggers[current_resp_cycle]+(resp_triggers_diff[current_resp_cycle]/5.)*(gate)\n",
    "        if (gate_start<=tag<gate_end):\n",
    "            InfoMatrix[tag,5]=gate-1\n"
   ]
  },
  {
   "cell_type": "code",
   "execution_count": 25,
   "metadata": {},
   "outputs": [],
   "source": [
    "np.savetxt('data/InfoMatrix.txt',InfoMatrix.astype(int),fmt='%i', delimiter=\",\")"
   ]
  },
  {
   "cell_type": "code",
   "execution_count": 69,
   "metadata": {},
   "outputs": [],
   "source": [
    "InfoMatrix.astype(np.int64).tofile('data/InfoMatrix.bin')"
   ]
  },
  {
   "cell_type": "code",
   "execution_count": 44,
   "metadata": {},
   "outputs": [],
   "source": [
    "InfoMatrix = np.loadtxt('data/InfoMatrix.txt', delimiter=\",\")"
   ]
  },
  {
   "cell_type": "code",
   "execution_count": 24,
   "metadata": {},
   "outputs": [
    {
     "data": {
      "text/plain": [
       "array([3509999,    1023,      40,       1,       1,       1])"
      ]
     },
     "execution_count": 24,
     "metadata": {},
     "output_type": "execute_result"
    }
   ],
   "source": [
    "#InfoMatrix[1495:1555]\n",
    "InfoMatrix[3509999,:]"
   ]
  },
  {
   "cell_type": "code",
   "execution_count": 28,
   "metadata": {},
   "outputs": [
    {
     "data": {
      "text/plain": [
       "(array([  5812,      0, 718851,      0, 718848,      0, 718848,      0,\n",
       "        718848, 718793], dtype=int64),\n",
       " array([0. , 0.5, 1. , 1.5, 2. , 2.5, 3. , 3.5, 4. , 4.5, 5. ]))"
      ]
     },
     "execution_count": 28,
     "metadata": {},
     "output_type": "execute_result"
    }
   ],
   "source": [
    "np.histogram(InfoMatrix[:,5],10)"
   ]
  },
  {
   "cell_type": "code",
   "execution_count": 33,
   "metadata": {},
   "outputs": [
    {
     "data": {
      "text/plain": [
       "0"
      ]
     },
     "execution_count": 33,
     "metadata": {},
     "output_type": "execute_result"
    }
   ],
   "source": [
    "np.sum(InfoMatrix[:,5]>5)"
   ]
  },
  {
   "cell_type": "code",
   "execution_count": null,
   "metadata": {},
   "outputs": [],
   "source": []
  },
  {
   "cell_type": "markdown",
   "metadata": {},
   "source": [
    "## Process the list-mode file and create Q.Static Q.Freeze list files (with frames)"
   ]
  },
  {
   "cell_type": "code",
   "execution_count": null,
   "metadata": {},
   "outputs": [],
   "source": [
    "# Q.Static\n",
    "pbar = tqdm(total=int(os.path.getsize(datafile)/24))   \n",
    "    \n",
    "with open(datafile, mode='rb') as file:\n",
    "    # Create Q.Static file\n",
    "    QStaticFile = open(os.path.basename(datafile).split('.')[0]+'_QStatic.cdf', \"wb\")\n",
    "    \n",
    "    # Read first datafilePack\n",
    "    datafilePack = file.read(24)\n",
    "    count=1\n",
    "    QStaticCount=0\n",
    "    # Loop over all data untill end of file\n",
    "    while datafilePack:\n",
    "        # get time tag\n",
    "        timetag = int(struct.unpack(\"I\",datafilePack[:4])[0])\n",
    "        # Check if we will use this time tag\n",
    "        if InfoMatrix[timetag,2]==1:\n",
    "            count+=1\n",
    "            # Check if we will use this time tag for Q.Static\n",
    "            if InfoMatrix[timetag,3]==1:\n",
    "                QStaticCount+=1\n",
    "                QStaticFile.write(datafilePack)\n",
    "\n",
    "        # Read next datafilePack\n",
    "        datafilePack = file.read(24)\n",
    "        #print progress\n",
    "        pbar.update(int(count))\n",
    "\n",
    "    # close output files\n",
    "    QStaticFile.close()\n",
    "    # close progress bar \n",
    "    pbar.close()"
   ]
  },
  {
   "cell_type": "code",
   "execution_count": null,
   "metadata": {},
   "outputs": [],
   "source": [
    "print(\"Number of events in Q.Static CASToR Datafile: %d\"%QStaticCount)\n",
    "print(\"Number of total events (accepted) from original CASToR Datafile: %d\"%count)"
   ]
  },
  {
   "cell_type": "code",
   "execution_count": null,
   "metadata": {},
   "outputs": [],
   "source": [
    "InfoMatrix[2614]"
   ]
  },
  {
   "cell_type": "code",
   "execution_count": null,
   "metadata": {},
   "outputs": [],
   "source": [
    "with open(datafile, mode='rb') as file:\n",
    "    datafilePack = file.read(24)\n",
    "    while datafilePack:\n",
    "        timetag = int(struct.unpack(\"I\",datafilePack[:4])[0])\n",
    "        if (timetag==2615):\n",
    "            print(\"found\")\n",
    "            break\n",
    "        datafilePack = file.read(24)"
   ]
  },
  {
   "cell_type": "code",
   "execution_count": null,
   "metadata": {},
   "outputs": [],
   "source": [
    "datafilePack"
   ]
  },
  {
   "cell_type": "code",
   "execution_count": null,
   "metadata": {},
   "outputs": [],
   "source": [
    "struct.unpack('IfffII', datafilePack)"
   ]
  },
  {
   "cell_type": "code",
   "execution_count": null,
   "metadata": {},
   "outputs": [],
   "source": []
  },
  {
   "cell_type": "code",
   "execution_count": null,
   "metadata": {},
   "outputs": [],
   "source": []
  },
  {
   "cell_type": "code",
   "execution_count": null,
   "metadata": {
    "scrolled": false
   },
   "outputs": [],
   "source": [
    "# Q.Freeze\n",
    "pbar = tqdm(total=int(os.path.getsize(datafile)/24))   \n",
    "    \n",
    "with open(datafile, mode='rb') as file:\n",
    "    # Create Q.Static file\n",
    "    \n",
    "    QFreezeFile_gate1 = open(os.path.basename(datafile).split('.')[0]+'_QFreeze_Gate1.cdf', \"wb\")\n",
    "    QFreezeFile_gate2 = open(os.path.basename(datafile).split('.')[0]+'_QFreeze_Gate2.cdf', \"wb\")\n",
    "    QFreezeFile_gate3 = open(os.path.basename(datafile).split('.')[0]+'_QFreeze_Gate3.cdf', \"wb\")\n",
    "    QFreezeFile_gate4 = open(os.path.basename(datafile).split('.')[0]+'_QFreeze_Gate4.cdf', \"wb\")\n",
    "    QFreezeFile_gate5 = open(os.path.basename(datafile).split('.')[0]+'_QFreeze_Gate5.cdf', \"wb\")\n",
    "    QFreezeFiles=[QFreezeFile_gate1,QFreezeFile_gate2,QFreezeFile_gate3,QFreezeFile_gate4,QFreezeFile_gate5]\n",
    "    \n",
    "    # Read first datafilePack\n",
    "    datafilePack = file.read(24)\n",
    "    count=1\n",
    "    GateCount=np.zeros([5])\n",
    "    # Loop over all data untill end of file\n",
    "    while datafilePack:\n",
    "        # get time tag\n",
    "        timetag = int(struct.unpack(\"I\",datafilePack[:4])[0])\n",
    "        # Check if we will use this time tag\n",
    "        if InfoMatrix[timetag,2]==1:\n",
    "            count+=1\n",
    "            # Check to which gate this event bellongs to\n",
    "            gate =  int(InfoMatrix[timetag,4])\n",
    "            QFreezeFiles[gate-1].write(datafilePack)\n",
    "            GateCount[gate-1]+=1\n",
    "\n",
    "\n",
    "        # Read next datafilePack\n",
    "        datafilePack = file.read(24)\n",
    "        #print progress\n",
    "        pbar.update(int(count))\n",
    "\n",
    "    # close output files\n",
    "    QStaticFile.close()\n",
    "    # close progress bar \n",
    "    pbar.close()"
   ]
  },
  {
   "cell_type": "code",
   "execution_count": null,
   "metadata": {},
   "outputs": [],
   "source": [
    "QFreezeFiles[1-1]"
   ]
  },
  {
   "cell_type": "code",
   "execution_count": null,
   "metadata": {},
   "outputs": [],
   "source": []
  },
  {
   "cell_type": "markdown",
   "metadata": {},
   "source": [
    "## Calculate quantification factors"
   ]
  },
  {
   "cell_type": "code",
   "execution_count": null,
   "metadata": {},
   "outputs": [],
   "source": []
  },
  {
   "cell_type": "code",
   "execution_count": 36,
   "metadata": {},
   "outputs": [],
   "source": [
    "head_curve=pd.read_csv('data/prompts_headcurve.hc',sep=',',header=None)\n",
    "head_curve.columns=['time','prompts']\n",
    "prompt_array = np.array(head_curve.prompts)"
   ]
  },
  {
   "cell_type": "code",
   "execution_count": 37,
   "metadata": {},
   "outputs": [],
   "source": [
    "prompt_array = np.array(head_curve.prompts)"
   ]
  },
  {
   "cell_type": "code",
   "execution_count": 38,
   "metadata": {},
   "outputs": [
    {
     "data": {
      "text/plain": [
       "(3599999,)"
      ]
     },
     "execution_count": 38,
     "metadata": {},
     "output_type": "execute_result"
    }
   ],
   "source": [
    "prompt_array.shape"
   ]
  },
  {
   "cell_type": "code",
   "execution_count": 37,
   "metadata": {},
   "outputs": [
    {
     "data": {
      "text/plain": [
       "395"
      ]
     },
     "execution_count": 37,
     "metadata": {},
     "output_type": "execute_result"
    }
   ],
   "source": [
    "prompt_array[tag]"
   ]
  },
  {
   "cell_type": "code",
   "execution_count": 40,
   "metadata": {},
   "outputs": [],
   "source": [
    "QStatic_counts_per_frame=np.zeros([np.size(FrameStart),2],dtype='int')\n",
    "QStatic_mseconds_per_frame=np.zeros([np.size(FrameStart),2],dtype='int')\n",
    "\n",
    "for frm in range(np.size(FrameStart)):\n",
    "    for tag in range(FrameStart[frm]*1000,FrameStart[frm]*1000+FrameDuration[frm]*1000):\n",
    "        if ((InfoMatrix[tag,3]==1)and(InfoMatrix[tag,4]==0)):\n",
    "            QStatic_counts_per_frame[frm,0]+=prompt_array[tag]\n",
    "            QStatic_mseconds_per_frame[frm,0]+=1\n",
    "        if ((InfoMatrix[tag,3]==1)and(InfoMatrix[tag,4]==1)):\n",
    "            QStatic_counts_per_frame[frm,1]+=prompt_array[tag]\n",
    "            QStatic_mseconds_per_frame[frm,1]+=1\n",
    "            "
   ]
  },
  {
   "cell_type": "code",
   "execution_count": 41,
   "metadata": {},
   "outputs": [
    {
     "name": "stdout",
     "output_type": "stream",
     "text": [
      "1166160,2750263\n",
      "20614616,19043671\n",
      "12651380,12604682\n",
      "9413227,9752994\n",
      "9956982,9674381\n",
      "8626578,10211739\n",
      "9660610,8830682\n",
      "8866733,9813369\n",
      "9405236,9285143\n",
      "9984158,8652089\n",
      "8959972,9549498\n",
      "8379555,9884698\n",
      "18077914,17564165\n",
      "18503548,16746187\n",
      "17037149,17749543\n",
      "17420887,17017694\n",
      "16911471,17225178\n",
      "17115181,16633524\n",
      "18070273,15527830\n",
      "15583987,17696646\n",
      "17485022,15522162\n",
      "16918205,15865530\n",
      "15488599,17093960\n",
      "17246648,15221329\n",
      "47836251,48582294\n",
      "47110290,47135635\n",
      "46197464,46051818\n",
      "44917554,45772584\n",
      "88243432,88788724\n",
      "85567302,85218879\n",
      "55664000,56569214\n",
      "79731044,78236056\n",
      "51886130,52351610\n",
      "150885945,152017503\n",
      "152272124,152200848\n",
      "134484245,135956408\n",
      "143971579,144103322\n",
      "132345696,132589655\n",
      "125327939,125882632\n",
      "117426625,117126683\n",
      "113047144,113470089\n"
     ]
    }
   ],
   "source": [
    "for frm in range(np.size(FrameStart)):\n",
    "    print(str(QStatic_counts_per_frame[frm,0])+\",\"+str(QStatic_counts_per_frame[frm,1]))"
   ]
  },
  {
   "cell_type": "code",
   "execution_count": 43,
   "metadata": {
    "scrolled": false
   },
   "outputs": [
    {
     "name": "stdout",
     "output_type": "stream",
     "text": [
      "3.24,4.146\n",
      "5.186,4.754\n",
      "5.15,4.85\n",
      "4.9,5.1\n",
      "5.07,4.87\n",
      "4.6,5.4\n",
      "5.173,4.707\n",
      "4.77,5.23\n",
      "5.05,4.95\n",
      "5.369,4.631\n",
      "4.858,5.142\n",
      "4.579,5.421\n",
      "10.012,9.928\n",
      "10.398,9.602\n",
      "9.68,10.32\n",
      "10.001,9.999\n",
      "9.809,10.191\n",
      "10.02,9.98\n",
      "10.67,9.33\n",
      "9.27,10.73\n",
      "10.49,9.51\n",
      "10.219,9.781\n",
      "9.441,10.559\n",
      "10.56,9.44\n",
      "29.797,30.082\n",
      "30.002,29.998\n",
      "30.026,29.974\n",
      "29.664,30.276\n",
      "59.72,60.16\n",
      "60.14,59.8\n",
      "40.421,41.0\n",
      "60.56,59.26\n",
      "40.458,40.483\n",
      "124.303,124.757\n",
      "136.0,135.48\n",
      "125.845,126.856\n",
      "146.337,146.064\n",
      "145.54,145.32\n",
      "145.129,145.271\n",
      "143.857,143.01\n",
      "146.525,146.53\n"
     ]
    }
   ],
   "source": [
    "for frm in range(np.size(FrameStart)):\n",
    "    print(str(QStatic_mseconds_per_frame[frm,0]/1000)+\",\"+str(QStatic_mseconds_per_frame[frm,1]/1000))"
   ]
  },
  {
   "cell_type": "code",
   "execution_count": 70,
   "metadata": {},
   "outputs": [],
   "source": [
    "Qfreeze_counts_per_frame=np.zeros([np.size(FrameStart),5],dtype='int')\n",
    "Qfreeze_mseconds_per_frame=np.zeros([np.size(FrameStart),5],dtype='int')\n",
    "\n",
    "for frm in range(np.size(FrameStart)):\n",
    "    for tag in range(FrameStart[frm]*1000,FrameStart[frm]*1000+FrameDuration[frm]*1000):\n",
    "        if ((InfoMatrix[tag,3]==1)):\n",
    "            Qfreeze_counts_per_frame[frm,InfoMatrix[tag,5]-1]+=prompt_array[tag]\n",
    "            Qfreeze_mseconds_per_frame[frm,InfoMatrix[tag,5]-1]+=1\n"
   ]
  },
  {
   "cell_type": "code",
   "execution_count": 71,
   "metadata": {},
   "outputs": [
    {
     "name": "stdout",
     "output_type": "stream",
     "text": [
      "611140,451397,448927,492102,1912857\n",
      "8705094,9182209,8970638,7094207,5706139\n",
      "4964698,4753452,4532005,5771967,5233940\n",
      "3908141,3910384,3923347,3535192,3889157\n",
      "3869973,3841829,3814659,4226098,3878804\n",
      "4087019,4058178,3617183,2986027,4089910\n",
      "3146461,3124608,3554408,4548055,4117760\n",
      "4187449,3562401,3538148,3552367,3839737\n",
      "3578435,3779410,3751643,3766968,3813923\n",
      "3636120,3996013,3986907,4001069,3016138\n",
      "3917101,3897748,3879778,3136294,3678549\n",
      "3945796,3964323,2984822,3416266,3953046\n",
      "7061280,6335454,7275100,7638549,7331696\n",
      "6611559,7671946,7645844,7022164,6298222\n",
      "7081972,7246662,6676009,6732360,7049689\n",
      "6402054,6263734,6819198,7464854,7488741\n",
      "7239687,7731825,6571116,6480800,6113221\n",
      "6851711,5887044,7022729,7144769,6842452\n",
      "5994737,7243687,7221102,7231551,5907026\n",
      "7087474,7213198,5985167,5990068,7004726\n",
      "5883221,6018408,7212003,7265631,6627921\n",
      "6640018,6765147,6757822,6772707,5848041\n",
      "6899756,6968407,6402272,5606776,6705348\n",
      "6081462,6190559,6697130,7459526,6039300\n",
      "19231129,19167147,19073095,19196687,19750487\n",
      "19079922,19024201,19026736,18583044,18532022\n",
      "18270053,18209863,18257334,18845578,18666454\n",
      "18488626,18441525,18177389,17530711,18051887\n",
      "35534972,35431670,34907990,35642675,35514849\n",
      "34124238,33983617,34517824,34070281,34090221\n",
      "22649039,22275753,22006176,22681558,22620688\n",
      "31296939,31534105,32030307,31795299,31310450\n",
      "20682719,20677432,20704501,20940859,21232229\n",
      "60984474,60826842,60513291,59990682,60588159\n",
      "60900528,60789375,60711420,61185089,60886560\n",
      "54394320,53820101,53646853,53949418,54629961\n",
      "57570679,57659853,57554867,57612568,57676934\n",
      "53175360,53275627,53133081,52600024,52751259\n",
      "50387467,50222525,49926562,50311354,50362663\n",
      "46883568,46750499,46841647,47236232,46841362\n",
      "45426124,45269795,45185862,45251800,45383652\n"
     ]
    }
   ],
   "source": [
    "for frm in range(np.size(FrameStart)):\n",
    "    print(str(Qfreeze_counts_per_frame[frm,0])+\",\"+str(Qfreeze_counts_per_frame[frm,1])\\\n",
    "          +\",\"+str(Qfreeze_counts_per_frame[frm,2])\\\n",
    "          +\",\"+str(Qfreeze_counts_per_frame[frm,3])\\\n",
    "          +\",\"+str(Qfreeze_counts_per_frame[frm,4]))"
   ]
  },
  {
   "cell_type": "code",
   "execution_count": 73,
   "metadata": {},
   "outputs": [
    {
     "name": "stdout",
     "output_type": "stream",
     "text": [
      "1.35,1.296,1.296,1.296,2.148\n",
      "2.21,2.264,2.264,1.79,1.412\n",
      "1.94,1.94,1.94,2.24,1.94\n",
      "2.04,2.04,2.04,1.84,2.04\n",
      "1.948,1.948,1.948,2.148,1.948\n",
      "2.16,2.16,1.931,1.589,2.16\n",
      "1.68,1.68,1.909,2.424,2.187\n",
      "2.227,1.908,1.908,1.908,2.049\n",
      "1.904,2.02,2.02,2.02,2.036\n",
      "1.945,2.148,2.148,2.147,1.612\n",
      "2.108,2.108,2.108,1.696,1.98\n",
      "2.168,2.168,1.635,1.86,2.169\n",
      "4.0,3.504,4.037,4.223,4.176\n",
      "3.812,4.308,4.308,3.936,3.636\n",
      "4.128,4.128,3.801,3.815,4.128\n",
      "3.773,3.596,3.923,4.28,4.428\n",
      "4.303,4.48,3.817,3.752,3.648\n",
      "4.122,3.452,4.115,4.179,4.132\n",
      "3.602,4.272,4.272,4.262,3.592\n",
      "4.292,4.292,3.566,3.558,4.292\n",
      "3.608,3.608,4.334,4.352,4.098\n",
      "4.088,4.088,4.088,4.087,3.649\n",
      "4.244,4.244,3.911,3.408,4.193\n",
      "3.776,3.776,4.109,4.563,3.776\n",
      "11.9,11.9,11.9,11.947,12.232\n",
      "12.132,12.132,12.132,11.804,11.8\n",
      "11.88,11.88,11.88,12.206,12.154\n",
      "12.22,12.22,12.011,11.543,11.946\n",
      "24.064,24.064,23.641,24.047,24.064\n",
      "23.92,23.92,24.282,23.898,23.92\n",
      "16.4,16.176,16.002,16.443,16.4\n",
      "23.704,23.928,24.372,24.112,23.704\n",
      "16.08,16.08,16.08,16.338,16.363\n",
      "50.016,50.016,49.908,49.387,49.733\n",
      "54.192,54.192,54.3,54.604,54.192\n",
      "50.732,50.256,50.256,50.461,50.996\n",
      "58.316,58.536,58.536,58.533,58.48\n",
      "58.248,58.504,58.493,57.795,57.82\n",
      "58.108,58.108,57.888,58.187,58.109\n",
      "57.204,57.204,57.435,57.82,57.204\n",
      "58.612,58.612,58.612,58.607,58.612\n"
     ]
    }
   ],
   "source": [
    "#Qfreeze_mseconds_per_frame=Qfreeze_mseconds_per_frame/1000.;\n",
    "for frm in range(np.size(FrameStart)):\n",
    "    print(str(Qfreeze_mseconds_per_frame[frm,0])+\",\"+str(Qfreeze_mseconds_per_frame[frm,1])\\\n",
    "          +\",\"+str(Qfreeze_mseconds_per_frame[frm,2])\\\n",
    "          +\",\"+str(Qfreeze_mseconds_per_frame[frm,3])\\\n",
    "          +\",\"+str(Qfreeze_mseconds_per_frame[frm,4]))"
   ]
  },
  {
   "cell_type": "code",
   "execution_count": 63,
   "metadata": {},
   "outputs": [
    {
     "data": {
      "text/plain": [
       "array([3306615,     959,      40,       1,       0,       5])"
      ]
     },
     "execution_count": 63,
     "metadata": {},
     "output_type": "execute_result"
    }
   ],
   "source": [
    "InfoMatrix[3306615,:]"
   ]
  },
  {
   "cell_type": "code",
   "execution_count": 64,
   "metadata": {},
   "outputs": [
    {
     "data": {
      "text/plain": [
       "array([3306614,     959,      40,       1,       0,       4])"
      ]
     },
     "execution_count": 64,
     "metadata": {},
     "output_type": "execute_result"
    }
   ],
   "source": [
    "InfoMatrix[3306614,:]"
   ]
  },
  {
   "cell_type": "code",
   "execution_count": null,
   "metadata": {},
   "outputs": [],
   "source": []
  }
 ],
 "metadata": {
  "kernelspec": {
   "display_name": "Python 3",
   "language": "python",
   "name": "python3"
  },
  "language_info": {
   "codemirror_mode": {
    "name": "ipython",
    "version": 3
   },
   "file_extension": ".py",
   "mimetype": "text/x-python",
   "name": "python",
   "nbconvert_exporter": "python",
   "pygments_lexer": "ipython3",
   "version": "3.7.6"
  }
 },
 "nbformat": 4,
 "nbformat_minor": 4
}
