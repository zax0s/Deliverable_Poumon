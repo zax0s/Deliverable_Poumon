{
 "cells": [
  {
   "cell_type": "code",
   "execution_count": 228,
   "metadata": {},
   "outputs": [],
   "source": [
    "import numpy as np\n",
    "import struct\n",
    "import pandas as pd\n",
    "import matplotlib.pyplot as plt\n",
    "import os\n",
    "%matplotlib inline\n",
    "import tqdm"
   ]
  },
  {
   "cell_type": "markdown",
   "metadata": {},
   "source": [
    "## Read dynamic list-mode CASToR datafile"
   ]
  },
  {
   "cell_type": "code",
   "execution_count": 229,
   "metadata": {},
   "outputs": [],
   "source": [
    "datafile='poumon_pat6_list-mode_0_tof_ref0_compr_1_10.cdf'"
   ]
  },
  {
   "cell_type": "code",
   "execution_count": 244,
   "metadata": {},
   "outputs": [
    {
     "data": {
      "text/plain": [
       "24"
      ]
     },
     "execution_count": 244,
     "metadata": {},
     "output_type": "execute_result"
    }
   ],
   "source": [
    "# Structure of datafile for 32 bit list-mode ( including TOF )\n",
    "struct.calcsize('IfffffII')\n",
    "\n",
    "\n",
    "# Structure of compressed datafile for 24 bit list-mode ( including TOF )\n",
    "# uint32_t : time tag\n",
    "# float: Normalization + Attenuation\n",
    "# float: Scatter + randoms\n",
    "# float: TOF arrival time diff\n",
    "# uint32_t: CrystalID1\n",
    "# uint32_t: CrystalID2\n",
    "struct.calcsize('IfffII')"
   ]
  },
  {
   "cell_type": "code",
   "execution_count": 245,
   "metadata": {},
   "outputs": [],
   "source": [
    "# Get last time tag\n",
    "with open(datafile, mode='rb') as file: # b is important -> binary\n",
    "    file.seek(os.path.getsize(datafile)-24)\n",
    "    # Read last phrase\n",
    "    datafilePack = file.read(24)\n",
    "    # read its time tag , as the last time tag\n",
    "    lastTimeTag = int(struct.unpack(\"I\",datafilePack[:4])[0])"
   ]
  },
  {
   "cell_type": "code",
   "execution_count": 246,
   "metadata": {},
   "outputs": [
    {
     "data": {
      "text/plain": [
       "3599999"
      ]
     },
     "execution_count": 246,
     "metadata": {},
     "output_type": "execute_result"
    }
   ],
   "source": [
    "lastTimeTag"
   ]
  },
  {
   "cell_type": "code",
   "execution_count": 247,
   "metadata": {},
   "outputs": [
    {
     "ename": "error",
     "evalue": "unpack requires a buffer of 4 bytes",
     "output_type": "error",
     "traceback": [
      "\u001b[1;31m---------------------------------------------------------------------------\u001b[0m",
      "\u001b[1;31merror\u001b[0m                                     Traceback (most recent call last)",
      "\u001b[1;32m<ipython-input-247-f78773171369>\u001b[0m in \u001b[0;36m<module>\u001b[1;34m\u001b[0m\n\u001b[0;32m     12\u001b[0m             \u001b[1;32mbreak\u001b[0m\u001b[1;33m;\u001b[0m\u001b[1;33m\u001b[0m\u001b[1;33m\u001b[0m\u001b[0m\n\u001b[0;32m     13\u001b[0m         \u001b[0mdatafilePack\u001b[0m \u001b[1;33m=\u001b[0m \u001b[0mfile\u001b[0m\u001b[1;33m.\u001b[0m\u001b[0mread\u001b[0m\u001b[1;33m(\u001b[0m\u001b[1;36m24\u001b[0m\u001b[1;33m)\u001b[0m\u001b[1;33m\u001b[0m\u001b[1;33m\u001b[0m\u001b[0m\n\u001b[1;32m---> 14\u001b[1;33m         \u001b[0mtimetag\u001b[0m \u001b[1;33m=\u001b[0m \u001b[0mint\u001b[0m\u001b[1;33m(\u001b[0m\u001b[0mstruct\u001b[0m\u001b[1;33m.\u001b[0m\u001b[0munpack\u001b[0m\u001b[1;33m(\u001b[0m\u001b[1;34m\"I\"\u001b[0m\u001b[1;33m,\u001b[0m\u001b[0mdatafilePack\u001b[0m\u001b[1;33m[\u001b[0m\u001b[1;33m:\u001b[0m\u001b[1;36m4\u001b[0m\u001b[1;33m]\u001b[0m\u001b[1;33m)\u001b[0m\u001b[1;33m[\u001b[0m\u001b[1;36m0\u001b[0m\u001b[1;33m]\u001b[0m\u001b[1;33m)\u001b[0m\u001b[1;33m\u001b[0m\u001b[1;33m\u001b[0m\u001b[0m\n\u001b[0m\u001b[0;32m     15\u001b[0m         \u001b[0mcounter\u001b[0m\u001b[1;33m+=\u001b[0m\u001b[1;36m1\u001b[0m\u001b[1;33m\u001b[0m\u001b[1;33m\u001b[0m\u001b[0m\n",
      "\u001b[1;31merror\u001b[0m: unpack requires a buffer of 4 bytes"
     ]
    }
   ],
   "source": [
    "# Unpack file in 32 bits and read the first 4 bits (time tags) as an unsigned int\n",
    "counter=0\n",
    "with open(datafile, mode='rb') as file: # b is important -> binary\n",
    "    #file.seek(os.path.getsize(datafile)-32*2)\n",
    "    datafilePack = file.read(24)\n",
    "    counter+=1\n",
    "    # Get time tag \n",
    "    timetag = int(struct.unpack(\"I\",datafilePack[:4])[0])\n",
    "    while datafilePack:\n",
    "        if (False):\n",
    "            print(counter)\n",
    "            break;\n",
    "        datafilePack = file.read(24)\n",
    "        timetag = int(struct.unpack(\"I\",datafilePack[:4])[0])\n",
    "        counter+=1"
   ]
  },
  {
   "cell_type": "code",
   "execution_count": 248,
   "metadata": {},
   "outputs": [
    {
     "data": {
      "text/plain": [
       "417017835"
      ]
     },
     "execution_count": 248,
     "metadata": {},
     "output_type": "execute_result"
    }
   ],
   "source": [
    "counter"
   ]
  },
  {
   "cell_type": "code",
   "execution_count": 250,
   "metadata": {},
   "outputs": [
    {
     "data": {
      "text/plain": [
       "417017835.0"
      ]
     },
     "execution_count": 250,
     "metadata": {},
     "output_type": "execute_result"
    }
   ],
   "source": [
    "os.path.getsize(datafile)/24"
   ]
  },
  {
   "cell_type": "code",
   "execution_count": 249,
   "metadata": {},
   "outputs": [
    {
     "data": {
      "text/plain": [
       "3599999"
      ]
     },
     "execution_count": 249,
     "metadata": {},
     "output_type": "execute_result"
    }
   ],
   "source": [
    "timetag"
   ]
  },
  {
   "cell_type": "markdown",
   "metadata": {},
   "source": [
    "## Define Framing for the study ( on study refference time == injection time )"
   ]
  },
  {
   "cell_type": "code",
   "execution_count": 20,
   "metadata": {},
   "outputs": [],
   "source": [
    "frm=\"10, 20, 30, 40, 50, 60, 70, 80,  \\\n",
    "90, 100, 110, 120, 130, 150, 170, 190, 210, 230,  \\\n",
    "250, 270, 290, 310, 330, 350, 370, 430, 490, 550, 610, 730, 850, 970, \\\n",
    "1090, 1210, 1510, 1810, 2110, 2410, 2710, 3010, 3310:300\""
   ]
  },
  {
   "cell_type": "code",
   "execution_count": 21,
   "metadata": {},
   "outputs": [],
   "source": [
    "frames_phrases=frm.split(\",\")\n",
    "FrameStart=np.zeros([len(frames_phrases)])\n",
    "FrameDuration=np.zeros([len(frames_phrases)])\n",
    "\n",
    "fr=0\n",
    "for phrase in frames_phrases:\n",
    "    #print(phrase)\n",
    "    if (phrase.find(\":\") != -1) :\n",
    "        FrameStart[fr]=float(phrase.split(\":\")[0])\n",
    "        FrameDuration[fr]=float(phrase.split(\":\")[1])\n",
    "    else:\n",
    "        FrameStart[fr]=float(phrase)\n",
    "    fr+=1\n",
    "\n",
    "# Loop over farmes duration and replace zeros with time until next frame\n",
    "for idx,val in enumerate(FrameDuration):\n",
    "    if val==0:\n",
    "        FrameDuration[idx]=FrameStart[idx+1]-FrameStart[idx]"
   ]
  },
  {
   "cell_type": "markdown",
   "metadata": {},
   "source": [
    "## Read respiratory triggers time tags"
   ]
  },
  {
   "cell_type": "code",
   "execution_count": 155,
   "metadata": {},
   "outputs": [],
   "source": [
    "resp_triggers=pd.read_csv('data/LIST0000.resp')\n",
    "resp_triggers.columns = ['trigger_time_tag']"
   ]
  },
  {
   "cell_type": "code",
   "execution_count": 156,
   "metadata": {},
   "outputs": [
    {
     "data": {
      "text/plain": [
       "trigger_time_tag    3416.174766\n",
       "dtype: float64"
      ]
     },
     "execution_count": 156,
     "metadata": {},
     "output_type": "execute_result"
    }
   ],
   "source": [
    "resp_triggers.diff().mean()"
   ]
  },
  {
   "cell_type": "code",
   "execution_count": 157,
   "metadata": {},
   "outputs": [],
   "source": [
    "resp_triggers = np.array(resp_triggers.trigger_time_tag.tolist())\n",
    "resp_triggers_diff = np.diff(resp_triggers)"
   ]
  },
  {
   "cell_type": "code",
   "execution_count": 158,
   "metadata": {},
   "outputs": [
    {
     "name": "stdout",
     "output_type": "stream",
     "text": [
      "Number of respiratory tags: 1071\n",
      "Mean respiratory rate: 3416.174766 ms\n",
      "Number of cycles to include: 869 \n",
      "Rejection fraction: 18.8609%\n"
     ]
    }
   ],
   "source": [
    "# Statistics of resp tags\n",
    "print(\"Number of respiratory tags: %d\"%resp_triggers.shape[0])\n",
    "print(\"Mean respiratory rate: %f ms\"%np.diff(resp_triggers).mean())\n",
    "accepted_count=((np.diff(resp_triggers)<3000*1.3) & (np.diff(resp_triggers)>3000*0.7)).sum()\n",
    "print(\"Number of cycles to include: %d \"%accepted_count)\n",
    "print(\"Rejection fraction: {0:.4f}%\".format((1-accepted_count/resp_triggers.shape[0])*100))"
   ]
  },
  {
   "cell_type": "code",
   "execution_count": null,
   "metadata": {},
   "outputs": [],
   "source": []
  },
  {
   "cell_type": "markdown",
   "metadata": {},
   "source": [
    "## Create time-tag info array for gates phase, gate index and rejected triger phases"
   ]
  },
  {
   "cell_type": "markdown",
   "metadata": {},
   "source": [
    "### In this step we create an information matrix for each time-tag within the list mode file.\n",
    "In each time tag we have the following information:\n",
    "#0: time-tag\n",
    "#1: respiratory cycle index\n",
    "#2: Accepted or rejected  based on respiratory cycle duration ( within 30% of 3000ms ) \n",
    "#3: Use for Q.Static ?  (Yes=1 or No=0)\n",
    "#4: Q.Freeze (Gate) index number"
   ]
  },
  {
   "cell_type": "code",
   "execution_count": null,
   "metadata": {},
   "outputs": [],
   "source": []
  },
  {
   "cell_type": "code",
   "execution_count": 172,
   "metadata": {},
   "outputs": [],
   "source": [
    "# Fake lastTimeTag for development \n",
    "lastTimeTag = 3656802+1000"
   ]
  },
  {
   "cell_type": "code",
   "execution_count": 173,
   "metadata": {},
   "outputs": [],
   "source": [
    "InfoMatrix = np.zeros([lastTimeTag,5])"
   ]
  },
  {
   "cell_type": "code",
   "execution_count": 174,
   "metadata": {},
   "outputs": [],
   "source": [
    "InfoMatrix[:,0] = np.arange(lastTimeTag)"
   ]
  },
  {
   "cell_type": "code",
   "execution_count": 175,
   "metadata": {},
   "outputs": [
    {
     "data": {
      "text/plain": [
       "3656802"
      ]
     },
     "execution_count": 175,
     "metadata": {},
     "output_type": "execute_result"
    }
   ],
   "source": [
    "resp_triggers[-1]"
   ]
  },
  {
   "cell_type": "code",
   "execution_count": 223,
   "metadata": {},
   "outputs": [
    {
     "name": "stderr",
     "output_type": "stream",
     "text": [
      "100%|████████████████████████████████████████████████████████████████████████████████████████████████████████████████████████████████████████████████████| 3655307/3655307 [03:22<00:00, 18027.56it/s]\n"
     ]
    }
   ],
   "source": [
    "# Set respiratory cycle index and check respiratory cycle duration\n",
    "current_resp_cycle=0\n",
    "# Reject all tags before the first respiratory trigger and after the last \n",
    "for tag in range(resp_triggers[0]):\n",
    "    InfoMatrix[tag,1]=0\n",
    "    InfoMatrix[tag,2]=0\n",
    "\n",
    "for tag in range(resp_triggers[-1],lastTimeTag):\n",
    "    InfoMatrix[tag,1]=0\n",
    "    InfoMatrix[tag,2]=0\n",
    "\n",
    "for tag in tqdm.tqdm(range(resp_triggers[0],resp_triggers[-1])):\n",
    "    # it tag is greater or equal to the following resp trigger, move one cycle up\n",
    "    if tag>=resp_triggers[current_resp_cycle+1]:\n",
    "        current_resp_cycle+=1;\n",
    "    # Set the current_resp_cycle index\n",
    "    InfoMatrix[tag,1]=current_resp_cycle\n",
    "    if (3000*0.7<resp_triggers_diff[current_resp_cycle]<3000*1.3):\n",
    "        InfoMatrix[tag,2]=1\n",
    "    \n",
    "    # Trigger is placed 30% forward from the peak ( by GE )\n",
    "    # we keep the first 50% of the data in the resp cycle for Q.Static data\n",
    "    if (tag<resp_triggers[current_resp_cycle]+resp_triggers_diff[current_resp_cycle]/2):\n",
    "        InfoMatrix[tag,3]=1\n",
    "      \n",
    "    # Trigger is placed 30% forward from the peak ( by GE )\n",
    "    # we splitt the data in the resp cycle in 5 parts/gates for Q.Static data    \n",
    "    for gate in range(1,6):\n",
    "        gate_start=resp_triggers[current_resp_cycle]+(resp_triggers_diff[current_resp_cycle]/5.)*(gate-1)\n",
    "        gate_end=resp_triggers[current_resp_cycle]+(resp_triggers_diff[current_resp_cycle]/5.)*(gate)\n",
    "        if (gate_start<=tag<gate_end):\n",
    "            InfoMatrix[tag,4]=gate\n"
   ]
  },
  {
   "cell_type": "code",
   "execution_count": 226,
   "metadata": {},
   "outputs": [
    {
     "data": {
      "text/plain": [
       "array([[1.555e+03, 1.000e+00, 1.000e+00, 1.000e+00, 1.000e+00],\n",
       "       [1.556e+03, 1.000e+00, 1.000e+00, 1.000e+00, 1.000e+00],\n",
       "       [1.557e+03, 1.000e+00, 1.000e+00, 1.000e+00, 1.000e+00],\n",
       "       ...,\n",
       "       [4.912e+03, 1.000e+00, 1.000e+00, 0.000e+00, 5.000e+00],\n",
       "       [4.913e+03, 1.000e+00, 1.000e+00, 0.000e+00, 5.000e+00],\n",
       "       [4.914e+03, 1.000e+00, 1.000e+00, 0.000e+00, 5.000e+00]])"
      ]
     },
     "execution_count": 226,
     "metadata": {},
     "output_type": "execute_result"
    }
   ],
   "source": [
    "#InfoMatrix[1495:1555]\n",
    "InfoMatrix[1555:4915]"
   ]
  },
  {
   "cell_type": "markdown",
   "metadata": {},
   "source": [
    "## Process the list-mode file and create Q.Static Q.Freeze list files (with frames)"
   ]
  },
  {
   "cell_type": "code",
   "execution_count": null,
   "metadata": {},
   "outputs": [],
   "source": []
  }
 ],
 "metadata": {
  "kernelspec": {
   "display_name": "Python 3",
   "language": "python",
   "name": "python3"
  },
  "language_info": {
   "codemirror_mode": {
    "name": "ipython",
    "version": 3
   },
   "file_extension": ".py",
   "mimetype": "text/x-python",
   "name": "python",
   "nbconvert_exporter": "python",
   "pygments_lexer": "ipython3",
   "version": "3.7.6"
  }
 },
 "nbformat": 4,
 "nbformat_minor": 4
}
